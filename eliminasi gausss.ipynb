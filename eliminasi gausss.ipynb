{
  "nbformat": 4,
  "nbformat_minor": 0,
  "metadata": {
    "colab": {
      "provenance": [],
      "authorship_tag": "ABX9TyPlLIt8txnIqdyHAnuVIyV+",
      "include_colab_link": true
    },
    "kernelspec": {
      "name": "python3",
      "display_name": "Python 3"
    },
    "language_info": {
      "name": "python"
    }
  },
  "cells": [
    {
      "cell_type": "markdown",
      "metadata": {
        "id": "view-in-github",
        "colab_type": "text"
      },
      "source": [
        "<a href=\"https://colab.research.google.com/github/Marchtenverisa/Komputasi-Numerik/blob/master/eliminasi%20gausss.ipynb\" target=\"_parent\"><img src=\"https://colab.research.google.com/assets/colab-badge.svg\" alt=\"Open In Colab\"/></a>"
      ]
    },
    {
      "cell_type": "code",
      "execution_count": 1,
      "metadata": {
        "colab": {
          "base_uri": "https://localhost:8080/"
        },
        "id": "dr8oFifwoqiS",
        "outputId": "4293ab3a-b94f-4a94-fe85-d1eb5b6b01c6"
      },
      "outputs": [
        {
          "output_type": "stream",
          "name": "stdout",
          "text": [
            "Sistem Persamaan Linear matriks adalah  [[2, 3, -1, 5], [4, 4, -3, 3], [-2, 3, -1, 1]]\n"
          ]
        }
      ],
      "source": [
        "SPL = [[2, 3, -1, 5], [4, 4, -3, 3], [-2, 3, -1, 1]]  # Definisi matriks\n",
        "print(\"Sistem Persamaan Linear matriks adalah \", SPL)"
      ]
    },
    {
      "cell_type": "code",
      "source": [
        "for i in range(4):\n",
        "    SPL[1][i] = SPL[1][i] - (2 * SPL[0][i])  # Operasi eliminasi baris pertama terhadap baris kedua\n",
        "print(SPL[1])  # Tampilkan hasil operasi pada baris kedua"
      ],
      "metadata": {
        "colab": {
          "base_uri": "https://localhost:8080/"
        },
        "id": "BGbwUW-1pk24",
        "outputId": "7317c611-b345-414f-f079-0604aa872422"
      },
      "execution_count": 2,
      "outputs": [
        {
          "output_type": "stream",
          "name": "stdout",
          "text": [
            "[0, -2, -1, -7]\n"
          ]
        }
      ]
    },
    {
      "cell_type": "code",
      "source": [
        "for i in range(4):\n",
        "    SPL[2][i] = SPL[2][i] - (-1 * SPL[0][i])  # Operasi eliminasi baris pertama terhadap baris ketiga\n",
        "print(SPL[2])  # Tampilkan hasil operasi pada baris ketiga"
      ],
      "metadata": {
        "colab": {
          "base_uri": "https://localhost:8080/"
        },
        "id": "gbxgwm3Cpp5u",
        "outputId": "94a8ae86-d6f2-40a4-93af-0e1fd9a0d972"
      },
      "execution_count": 3,
      "outputs": [
        {
          "output_type": "stream",
          "name": "stdout",
          "text": [
            "[0, 6, -2, 6]\n"
          ]
        }
      ]
    },
    {
      "cell_type": "code",
      "source": [
        "for i in range(1, 4):\n",
        "    SPL[2][i] = SPL[2][i] - (-3 * SPL[1][i])  # Operasi eliminasi baris kedua terhadap baris ketiga\n",
        "print(SPL[2])  # Tampilkan hasil baris ketiga setelah eliminasi"
      ],
      "metadata": {
        "colab": {
          "base_uri": "https://localhost:8080/"
        },
        "id": "_eRez31SpwRK",
        "outputId": "202a995b-c775-4d3a-bbad-8994347770a1"
      },
      "execution_count": 4,
      "outputs": [
        {
          "output_type": "stream",
          "name": "stdout",
          "text": [
            "[0, 0, -5, -15]\n"
          ]
        }
      ]
    },
    {
      "cell_type": "code",
      "source": [
        "print(\"Matriks setelah eliminasi adalah:\", SPL)"
      ],
      "metadata": {
        "colab": {
          "base_uri": "https://localhost:8080/"
        },
        "id": "U04kVmzTp1Sj",
        "outputId": "d915da7b-37fb-420b-ab20-fc837952a62b"
      },
      "execution_count": 5,
      "outputs": [
        {
          "output_type": "stream",
          "name": "stdout",
          "text": [
            "Matriks setelah eliminasi adalah: [[2, 3, -1, 5], [0, -2, -1, -7], [0, 0, -5, -15]]\n"
          ]
        }
      ]
    },
    {
      "cell_type": "code",
      "source": [
        "print(\"Nilai SPL[1][1]:\", SPL[1][1])  # Akses elemen pada baris kedua, kolom kedua"
      ],
      "metadata": {
        "colab": {
          "base_uri": "https://localhost:8080/"
        },
        "id": "JCZyQ_4fp2xh",
        "outputId": "7f958f86-ab19-4bc1-f408-820397b61d26"
      },
      "execution_count": 6,
      "outputs": [
        {
          "output_type": "stream",
          "name": "stdout",
          "text": [
            "Nilai SPL[1][1]: -2\n"
          ]
        }
      ]
    }
  ]
}