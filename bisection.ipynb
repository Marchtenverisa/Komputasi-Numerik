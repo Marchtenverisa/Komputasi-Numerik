{
  "nbformat": 4,
  "nbformat_minor": 0,
  "metadata": {
    "colab": {
      "provenance": [],
      "authorship_tag": "ABX9TyPttha4Hy+XGXtt78zNKi0T",
      "include_colab_link": true
    },
    "kernelspec": {
      "name": "python3",
      "display_name": "Python 3"
    },
    "language_info": {
      "name": "python"
    }
  },
  "cells": [
    {
      "cell_type": "markdown",
      "metadata": {
        "id": "view-in-github",
        "colab_type": "text"
      },
      "source": [
        "<a href=\"https://colab.research.google.com/github/Marchtenverisa/Komputasi-Numerik/blob/master/bisection.ipynb\" target=\"_parent\"><img src=\"https://colab.research.google.com/assets/colab-badge.svg\" alt=\"Open In Colab\"/></a>"
      ]
    },
    {
      "cell_type": "code",
      "execution_count": 1,
      "metadata": {
        "id": "VwKJLkp9mJ9V"
      },
      "outputs": [],
      "source": [
        "import numpy as np"
      ]
    },
    {
      "cell_type": "code",
      "source": [
        "def bisection(f, a, b, tol):\n",
        "    \"\"\"\n",
        "    Metode bisection untuk mencari akar fungsi f(x) = 0.\n",
        "    \"\"\"\n",
        "    if np.sign(f(a)) == np.sign(f(b)):\n",
        "        raise Exception(\"Interval tidak valid: Tidak ada akar dalam [a, b]\")\n",
        "\n",
        "    m = (a + b) / 2  # Titik tengah interval\n",
        "\n",
        "    if np.abs(f(m)) < tol:  # Jika toleransi tercapai\n",
        "        return m\n",
        "    elif np.sign(f(a)) == np.sign(f(m)):\n",
        "        return bisection(f, m, b, tol)\n",
        "    elif np.sign(f(b)) == np.sign(f(m)):\n",
        "        return bisection(f, a, m, tol)"
      ],
      "metadata": {
        "id": "BsLWzinemVp0"
      },
      "execution_count": 2,
      "outputs": []
    },
    {
      "cell_type": "code",
      "source": [
        "f = lambda x: x**2 - 2"
      ],
      "metadata": {
        "id": "RGfU1-0Gmoei"
      },
      "execution_count": 3,
      "outputs": []
    },
    {
      "cell_type": "code",
      "source": [
        "r1 = bisection(f, 0, 2, 0.1)\n",
        "print(\"r1 =\", r1)"
      ],
      "metadata": {
        "colab": {
          "base_uri": "https://localhost:8080/"
        },
        "id": "LsEHlfdAmbNW",
        "outputId": "160718f0-c538-417a-b856-c0542f655adb"
      },
      "execution_count": 4,
      "outputs": [
        {
          "output_type": "stream",
          "name": "stdout",
          "text": [
            "r1 = 1.4375\n"
          ]
        }
      ]
    },
    {
      "cell_type": "code",
      "source": [
        "r01 = bisection(f, 0, 2, 0.01)\n",
        "print(\"r01 =\", r01)"
      ],
      "metadata": {
        "colab": {
          "base_uri": "https://localhost:8080/"
        },
        "id": "COvC-EY2mgK_",
        "outputId": "1e56b643-e89d-422d-bc76-ed629b03b7b2"
      },
      "execution_count": 5,
      "outputs": [
        {
          "output_type": "stream",
          "name": "stdout",
          "text": [
            "r01 = 1.4140625\n"
          ]
        }
      ]
    },
    {
      "cell_type": "code",
      "source": [
        "print(\"f(r1) =\", f(r1))\n",
        "print(\"f(r01) =\", f(r01))"
      ],
      "metadata": {
        "colab": {
          "base_uri": "https://localhost:8080/"
        },
        "id": "u4yN4vc0mkt8",
        "outputId": "0bb1d595-0a8d-4517-8e23-ec88264330fe"
      },
      "execution_count": 6,
      "outputs": [
        {
          "output_type": "stream",
          "name": "stdout",
          "text": [
            "f(r1) = 0.06640625\n",
            "f(r01) = -0.00042724609375\n"
          ]
        }
      ]
    }
  ]
}